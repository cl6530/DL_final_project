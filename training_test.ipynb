{
  "nbformat": 4,
  "nbformat_minor": 0,
  "metadata": {
    "colab": {
      "provenance": [],
      "authorship_tag": "ABX9TyNxO1NMgAZn58KbUbbIC9ey",
      "include_colab_link": true
    },
    "kernelspec": {
      "name": "python3",
      "display_name": "Python 3"
    },
    "language_info": {
      "name": "python"
    },
    "accelerator": "GPU",
    "gpuClass": "standard"
  },
  "cells": [
    {
      "cell_type": "markdown",
      "metadata": {
        "id": "view-in-github",
        "colab_type": "text"
      },
      "source": [
        "<a href=\"https://colab.research.google.com/github/cl6530/DL_final_project/blob/main/training_test.ipynb\" target=\"_parent\"><img src=\"https://colab.research.google.com/assets/colab-badge.svg\" alt=\"Open In Colab\"/></a>"
      ]
    },
    {
      "cell_type": "code",
      "execution_count": 24,
      "metadata": {
        "colab": {
          "base_uri": "https://localhost:8080/"
        },
        "id": "flopcty7XM9W",
        "outputId": "98ee17df-0965-4de9-9f87-dd8bd8f0cb97"
      },
      "outputs": [
        {
          "output_type": "stream",
          "name": "stdout",
          "text": [
            "--2023-05-05 00:18:25--  https://raw.githubusercontent.com/cl6530/DL_final_project/main/env.py\n",
            "Resolving raw.githubusercontent.com (raw.githubusercontent.com)... 185.199.108.133, 185.199.109.133, 185.199.110.133, ...\n",
            "Connecting to raw.githubusercontent.com (raw.githubusercontent.com)|185.199.108.133|:443... connected.\n",
            "HTTP request sent, awaiting response... 200 OK\n",
            "Length: 2781 (2.7K) [text/plain]\n",
            "Saving to: ‘env.py.1’\n",
            "\n",
            "\renv.py.1              0%[                    ]       0  --.-KB/s               \renv.py.1            100%[===================>]   2.72K  --.-KB/s    in 0s      \n",
            "\n",
            "2023-05-05 00:18:25 (47.3 MB/s) - ‘env.py.1’ saved [2781/2781]\n",
            "\n",
            "--2023-05-05 00:18:25--  https://raw.githubusercontent.com/cl6530/DL_final_project/main/utils.py\n",
            "Resolving raw.githubusercontent.com (raw.githubusercontent.com)... 185.199.108.133, 185.199.109.133, 185.199.110.133, ...\n",
            "Connecting to raw.githubusercontent.com (raw.githubusercontent.com)|185.199.108.133|:443... connected.\n",
            "HTTP request sent, awaiting response... 200 OK\n",
            "Length: 3669 (3.6K) [text/plain]\n",
            "Saving to: ‘utils.py.1’\n",
            "\n",
            "utils.py.1          100%[===================>]   3.58K  --.-KB/s    in 0s      \n",
            "\n",
            "2023-05-05 00:18:25 (67.7 MB/s) - ‘utils.py.1’ saved [3669/3669]\n",
            "\n",
            "--2023-05-05 00:18:26--  https://raw.githubusercontent.com/cl6530/DL_final_project/main/dueling.py\n",
            "Resolving raw.githubusercontent.com (raw.githubusercontent.com)... 185.199.108.133, 185.199.109.133, 185.199.110.133, ...\n",
            "Connecting to raw.githubusercontent.com (raw.githubusercontent.com)|185.199.108.133|:443... connected.\n",
            "HTTP request sent, awaiting response... 200 OK\n",
            "Length: 1054 (1.0K) [text/plain]\n",
            "Saving to: ‘dueling.py.1’\n",
            "\n",
            "dueling.py.1        100%[===================>]   1.03K  --.-KB/s    in 0s      \n",
            "\n",
            "2023-05-05 00:18:26 (71.0 MB/s) - ‘dueling.py.1’ saved [1054/1054]\n",
            "\n"
          ]
        }
      ],
      "source": [
        "!wget https://raw.githubusercontent.com/cl6530/DL_final_project/main/env.py\n",
        "!wget https://raw.githubusercontent.com/cl6530/DL_final_project/main/utils.py\n",
        "!wget https://raw.githubusercontent.com/cl6530/DL_final_project/main/dueling.py"
      ]
    },
    {
      "cell_type": "markdown",
      "source": [
        "# ENV"
      ],
      "metadata": {
        "id": "7JpmqaxLK5UX"
      }
    },
    {
      "cell_type": "code",
      "source": [
        "from env import StockTradingEnv\n",
        "from utils import select_action,Transition,ReplayMemory, optimize_model,get_data\n",
        "from dueling import DuelingDQN\n",
        "from google.colab import drive\n",
        "import torch\n",
        "import torch.nn as nn\n",
        "import random\n",
        "import torch.optim as optim\n",
        "import numpy as np\n",
        "import matplotlib.pyplot as plt\n",
        "import torch.nn.functional as F"
      ],
      "metadata": {
        "id": "cFo_T_dJY74d"
      },
      "execution_count": 2,
      "outputs": []
    },
    {
      "cell_type": "markdown",
      "source": [
        "# Get Data"
      ],
      "metadata": {
        "id": "63koI2gwfGaD"
      }
    },
    {
      "cell_type": "code",
      "source": [
        "drive.mount('/content/drive')\n",
        "path = r'/content/drive/My Drive/Colab Notebooks/dataset'\n",
        "data = get_data(drive_path = path)"
      ],
      "metadata": {
        "colab": {
          "base_uri": "https://localhost:8080/"
        },
        "id": "Rr-DXhhwZQpE",
        "outputId": "ae621063-6dec-4fad-cbc0-9d9c97b0fc01"
      },
      "execution_count": 3,
      "outputs": [
        {
          "output_type": "stream",
          "name": "stderr",
          "text": [
            "/usr/local/lib/python3.10/dist-packages/pexpect/popen_spawn.py:60: DeprecationWarning: setDaemon() is deprecated, set the daemon attribute instead\n",
            "  self._read_thread.setDaemon(True)\n"
          ]
        },
        {
          "output_type": "stream",
          "name": "stdout",
          "text": [
            "Mounted at /content/drive\n",
            "['/content/drive/My Drive/Colab Notebooks/dataset/EminiSP500future_2021.csv', '/content/drive/My Drive/Colab Notebooks/dataset/EminiSP500future_2022.csv', '/content/drive/My Drive/Colab Notebooks/dataset/EminiSP500future_2019.csv', '/content/drive/My Drive/Colab Notebooks/dataset/EminiSP500future_2017.csv', '/content/drive/My Drive/Colab Notebooks/dataset/EminiSP500future_2020.csv', '/content/drive/My Drive/Colab Notebooks/dataset/EminiSP500future_2015.csv', '/content/drive/My Drive/Colab Notebooks/dataset/EminiSP500future_2014.csv', '/content/drive/My Drive/Colab Notebooks/dataset/EminiSP500future_2013.csv', '/content/drive/My Drive/Colab Notebooks/dataset/EminiSP500future_2016.csv', '/content/drive/My Drive/Colab Notebooks/dataset/EminiSP500future_2012.csv', '/content/drive/My Drive/Colab Notebooks/dataset/EminiSP500future_2023.csv', '/content/drive/My Drive/Colab Notebooks/dataset/EminiSP500future_2011.csv', '/content/drive/My Drive/Colab Notebooks/dataset/EminiSP500future_2010.csv', '/content/drive/My Drive/Colab Notebooks/dataset/EminiSP500future_2018.csv']\n"
          ]
        }
      ]
    },
    {
      "cell_type": "markdown",
      "source": [
        "# Models"
      ],
      "metadata": {
        "id": "yL3paEK5hFmd"
      }
    },
    {
      "cell_type": "code",
      "source": [
        "EPS = 1\n",
        "N_EXPLORATION = 250\n",
        "TAU = 0.1\n",
        "LR = 1e-3\n",
        "\n",
        "device = torch.device(\"cuda\" if torch.cuda.is_available() else \"cpu\")"
      ],
      "metadata": {
        "id": "yPe2kzeOhHdw"
      },
      "execution_count": 45,
      "outputs": []
    },
    {
      "cell_type": "code",
      "source": [
        "policy_net = DuelingDQN(2, 3).to(device)\n",
        "target_net = DuelingDQN(2, 3).to(device)\n",
        "target_net.load_state_dict(policy_net.state_dict())\n",
        "\n",
        "optimizer = optim.AdamW(policy_net.parameters(), lr=LR, amsgrad=True)"
      ],
      "metadata": {
        "id": "RwLd__DnhMB8"
      },
      "execution_count": 47,
      "outputs": []
    },
    {
      "cell_type": "code",
      "source": [
        "def eval_model(policy):\n",
        "    '''\n",
        "    evaluate the model using test data (last 500 data points)\n",
        "    and record the percentage of each action (long, short or stay)\n",
        "    '''\n",
        "\n",
        "    NAV = [1]\n",
        "    BAH = [1]\n",
        "    returns = data.values[-500:]\n",
        "    env = StockTradingEnv(returns)\n",
        "    t = 5\n",
        "    done = False\n",
        "    actions = []\n",
        "    while not done:\n",
        "      state = env.current_state\n",
        "      action = select_action(state,0,env.action_space,policy,device)\n",
        "      actions.append(action.cpu())\n",
        "      state, action,reward,next_state, done = env.step(action.item())\n",
        "      NAV.append(NAV[-1]*(1+reward))\n",
        "      BAH.append(BAH[-1]*(1+returns[t]))\n",
        "      t+=1\n",
        "    plt.plot(NAV, label = 'NAV')\n",
        "    plt.plot(BAH, label = 'BAH')\n",
        "    plt.legend()\n",
        "    plt.show()\n",
        "    plt.plot(actions)\n",
        "    plt.show()"
      ],
      "metadata": {
        "id": "m_vuAxV5E4LU"
      },
      "execution_count": 42,
      "outputs": []
    },
    {
      "cell_type": "code",
      "source": [
        "eval_model(target_net)"
      ],
      "metadata": {
        "id": "QBZfp6Baih0g",
        "outputId": "947ae67a-2c61-447c-9cd9-4e18d97a88c5",
        "colab": {
          "base_uri": "https://localhost:8080/",
          "height": 843
        }
      },
      "execution_count": 48,
      "outputs": [
        {
          "output_type": "display_data",
          "data": {
            "text/plain": [
              "<Figure size 640x480 with 1 Axes>"
            ],
            "image/png": "[encoded data removed]"
          },
          "metadata": {}
        },
        {
          "output_type": "display_data",
          "data": {
            "text/plain": [
              "<Figure size 640x480 with 1 Axes>"
            ],
            "image/png": "[encoded data removed]"
          },
          "metadata": {}
        }
      ]
    },
    {
      "cell_type": "markdown",
      "source": [
        "# Train"
      ],
      "metadata": {
        "id": "zmM7Lcw6geCF"
      }
    },
    {
      "cell_type": "code",
      "source": [
        "criterion = nn.MSELoss()"
      ],
      "metadata": {
        "id": "3u2Nz_tFsBEj"
      },
      "execution_count": 49,
      "outputs": []
    },
    {
      "cell_type": "code",
      "source": [
        "start = random.randint(0,len(data-500)-257)\n",
        "stock_returns = data.values[start:start + 257]\n",
        "\n",
        "stock_returns[:6]"
      ],
      "metadata": {
        "id": "dU0hyXewdXdS",
        "outputId": "7ef4d406-c306-4747-8b83-7e4849e30ed3",
        "colab": {
          "base_uri": "https://localhost:8080/"
        }
      },
      "execution_count": 51,
      "outputs": [
        {
          "output_type": "stream",
          "name": "stderr",
          "text": [
            "/usr/local/lib/python3.10/dist-packages/ipykernel/ipkernel.py:283: DeprecationWarning: `should_run_async` will not call `transform_cell` automatically in the future. Please pass the result to `transformed_cell` argument and any exception that happen during thetransform in `preprocessing_exc_tuple` in IPython 7.17 and above.\n",
            "  and should_run_async(code)\n"
          ]
        },
        {
          "output_type": "execute_result",
          "data": {
            "text/plain": [
              "array([-0.000379  ,  0.0064455 ,  0.00037672, -0.00112973,  0.00508954,\n",
              "        0.00356339])"
            ]
          },
          "metadata": {},
          "execution_count": 51
        }
      ]
    },
    {
      "cell_type": "code",
      "source": [
        "env = StockTradingEnv(stock_returns)\n",
        "env.current_state"
      ],
      "metadata": {
        "id": "kxQpR7Lfdcj4",
        "outputId": "f2cb9822-994e-4a1b-90a2-1ce948c5ef4a",
        "colab": {
          "base_uri": "https://localhost:8080/"
        }
      },
      "execution_count": 52,
      "outputs": [
        {
          "output_type": "stream",
          "name": "stderr",
          "text": [
            "/usr/local/lib/python3.10/dist-packages/ipykernel/ipkernel.py:283: DeprecationWarning: `should_run_async` will not call `transform_cell` automatically in the future. Please pass the result to `transformed_cell` argument and any exception that happen during thetransform in `preprocessing_exc_tuple` in IPython 7.17 and above.\n",
            "  and should_run_async(code)\n"
          ]
        },
        {
          "output_type": "execute_result",
          "data": {
            "text/plain": [
              "array([ 0.00508954, -0.000379  ])"
            ]
          },
          "metadata": {},
          "execution_count": 52
        }
      ]
    },
    {
      "cell_type": "code",
      "source": [
        "action = 2\n",
        "env.step(action)"
      ],
      "metadata": {
        "id": "MzvqRZbwdhmq",
        "outputId": "aededab9-50b8-49b3-fc86-7b2bd5b162c2",
        "colab": {
          "base_uri": "https://localhost:8080/"
        }
      },
      "execution_count": 53,
      "outputs": [
        {
          "output_type": "stream",
          "name": "stderr",
          "text": [
            "/usr/local/lib/python3.10/dist-packages/ipykernel/ipkernel.py:283: DeprecationWarning: `should_run_async` will not call `transform_cell` automatically in the future. Please pass the result to `transformed_cell` argument and any exception that happen during thetransform in `preprocessing_exc_tuple` in IPython 7.17 and above.\n",
            "  and should_run_async(code)\n"
          ]
        },
        {
          "output_type": "execute_result",
          "data": {
            "text/plain": [
              "(array([ 0.00508954, -0.000379  ]),\n",
              " 2,\n",
              " 0.003563390847711956,\n",
              " array([0.00356339, 0.0064455 ]),\n",
              " False)"
            ]
          },
          "metadata": {},
          "execution_count": 53
        }
      ]
    },
    {
      "cell_type": "code",
      "source": [
        "env.current_state"
      ],
      "metadata": {
        "id": "_6hsJhX4eB1Z",
        "outputId": "457ce106-67d2-4c3d-b7cd-74bda1446b1e",
        "colab": {
          "base_uri": "https://localhost:8080/"
        }
      },
      "execution_count": 54,
      "outputs": [
        {
          "output_type": "stream",
          "name": "stderr",
          "text": [
            "/usr/local/lib/python3.10/dist-packages/ipykernel/ipkernel.py:283: DeprecationWarning: `should_run_async` will not call `transform_cell` automatically in the future. Please pass the result to `transformed_cell` argument and any exception that happen during thetransform in `preprocessing_exc_tuple` in IPython 7.17 and above.\n",
            "  and should_run_async(code)\n"
          ]
        },
        {
          "output_type": "execute_result",
          "data": {
            "text/plain": [
              "array([0.00356339, 0.0064455 ])"
            ]
          },
          "metadata": {},
          "execution_count": 54
        }
      ]
    },
    {
      "cell_type": "code",
      "source": [],
      "metadata": {
        "id": "bPmsYrthePex"
      },
      "execution_count": null,
      "outputs": []
    },
    {
      "cell_type": "code",
      "source": [
        "memory = ReplayMemory(100000)\n",
        "\n",
        "if torch.cuda.is_available():\n",
        "    num_episodes = 500\n",
        "else:\n",
        "    num_episodes = 50\n",
        "\n",
        "for i_episode in range(num_episodes):\n",
        "\n",
        "    # get 252 returns\n",
        "    # since step start at 5, we extract 257 returns\n",
        "    start = random.randint(0,len(data-500)-257)\n",
        "    stock_returns = data.values[start:start + 257]\n",
        "\n",
        "    #creat an env\n",
        "    env = StockTradingEnv(stock_returns)\n",
        "    done = False\n",
        "    print(EPS)\n",
        "    while not done:    \n",
        "      #linear epsilon decay in the first n_exploration episodes, then exploit\n",
        "      EPS = max(0,EPS-1/(252*N_EXPLORATION))\n",
        "      \n",
        "      state = env.current_state\n",
        "\n",
        "      #get action\n",
        "      action = select_action(state,EPS,env.action_space,policy_net,device)\n",
        "\n",
        "      #step\n",
        "      state, action,reward,next_state, done = env.step(action.item())\n",
        "      #store in replay\n",
        "      memory.push(torch.tensor(state.astype(np.float32),device=device), torch.tensor([action],device=device), torch.tensor(next_state.astype(np.float32),device=device), torch.tensor(reward,device=device))\n",
        "\n",
        "      #optimize\n",
        "      if len(memory) < 2:\n",
        "          continue\n",
        "      optimize_model(memory,optimizer,policy_net,target_net,device,criterion)\n",
        "\n",
        "      # FIXME: Current Verision using soft update, the paper uses hard updates every 100 step\n",
        "      target_net_state_dict = target_net.state_dict()\n",
        "      policy_net_state_dict = policy_net.state_dict()\n",
        "      for key in policy_net_state_dict:\n",
        "          target_net_state_dict[key] = policy_net_state_dict[key]*TAU + target_net_state_dict[key]*(1-TAU)\n",
        "      target_net.load_state_dict(target_net_state_dict)\n",
        "    if i_episode%50 == 0:\n",
        "      eval_model(target_net)"
      ],
      "metadata": {
        "id": "PdUljNhpgdaZ"
      },
      "execution_count": null,
      "outputs": []
    }
  ]
}